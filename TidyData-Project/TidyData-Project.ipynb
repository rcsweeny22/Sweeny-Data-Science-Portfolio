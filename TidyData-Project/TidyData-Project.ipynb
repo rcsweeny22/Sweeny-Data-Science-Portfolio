{
 "cells": [
  {
   "cell_type": "code",
   "execution_count": 5,
   "metadata": {},
   "outputs": [
    {
     "name": "stdout",
     "output_type": "stream",
     "text": [
      "\n",
      "Melted (Tidy) Student Scores DataFrame:\n",
      "            medalist_name                       Sport Gender\n",
      "0         Aaron Armstrong                male_archery    NaN\n",
      "1           Aaron Peirsol                male_archery    NaN\n",
      "2        Abdullo Tangriev                male_archery    NaN\n",
      "3       Abeer Abdelrahman                male_archery    NaN\n",
      "4                 Abhinav                male_archery    NaN\n",
      "...                   ...                         ...    ...\n",
      "131245        Éver Banega  male_greco-roman wrestling    NaN\n",
      "131246  Ólafur Stefánsson  male_greco-roman wrestling    NaN\n",
      "131247      Óscar Brayson  male_greco-roman wrestling    NaN\n",
      "131248   Łukasz Pawłowski  male_greco-roman wrestling    NaN\n",
      "131249        Živko Gocić  male_greco-roman wrestling    NaN\n",
      "\n",
      "[131250 rows x 3 columns]\n"
     ]
    }
   ],
   "source": [
    "import pandas as pd\n",
    "\n",
    "df_olympics = pd.read_csv(\"olympics_08_medalists.csv\")\n",
    "\n",
    "df_olympics_melted = pd.melt(df_olympics, id_vars=['medalist_name'],\n",
    "                             value_vars=['male_archery','female_archery', 'male_athletics','female_athletics','male_badminton','female_badminton',\n",
    "                                         'male_baseball','male_basketball','female_basketball','male_boxing','male_canoeing and kayaking','female_canoeing and kayaking',\n",
    "                                         'male_road bicycle racing','female_road bicycle racing','male_track cycling','female_track cycling','male_mountain biking',\n",
    "                                         'female_mountain biking','male_bmx','female_bmx','male_diving','female_diving','female_equestrian sport','male_equestrian sport',\n",
    "                                         'male_fencing','female_fencing','male_field hockey','female_field hockey','male_association football','female_association football',\n",
    "                                         'male_artistic gymnastics','female_artistic gymnastics','female_rhythmic gymnastics','male_trampoline gymnastics','female_trampoline gymnastics',\n",
    "                                         'male_handball','female_handball','male_judo','female_judo','male_modern pentathlon','female_modern pentathlon','male_rowing','female_rowing',\n",
    "                                         'male_sailing','female_sailing','male_shooting sport','female_shooting sport','female_softball','male_swimming','female_swimming',\n",
    "                                         'female_synchronized swimming','male_table tennis','female_table tennis','male_taekwondo','female_taekwondo','male_tennis','female_tennis',\n",
    "                                         'male_triathlon','female_triathlon','male_beach volleyball','female_beach volleyball','male_volleyball','female_volleyball','male_water polo',\n",
    "                                         'female_water polo','male_weightlifting','female_weightlifting','male_freestyle wrestling','female_freestyle wrestling','male_greco-roman wrestling'],\n",
    "                             var_name='Sport', value_name='Gender')\n",
    "\n",
    "#df_olympics_melted['Sport'] = df_olympics_melted['Sport'].str.replace(['male', 'female'], '_')\n",
    "\n",
    "print(\"\\nMelted (Tidy) Student Scores DataFrame:\")\n",
    "print(df_olympics_melted)"
   ]
  }
 ],
 "metadata": {
  "kernelspec": {
   "display_name": "base",
   "language": "python",
   "name": "python3"
  },
  "language_info": {
   "codemirror_mode": {
    "name": "ipython",
    "version": 3
   },
   "file_extension": ".py",
   "mimetype": "text/x-python",
   "name": "python",
   "nbconvert_exporter": "python",
   "pygments_lexer": "ipython3",
   "version": "3.12.7"
  }
 },
 "nbformat": 4,
 "nbformat_minor": 2
}
